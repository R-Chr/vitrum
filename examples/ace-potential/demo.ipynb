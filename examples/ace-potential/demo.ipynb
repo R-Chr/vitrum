{
 "cells": [
  {
   "cell_type": "code",
   "execution_count": null,
   "id": "20c0f490-b847-4612-aee0-7efd324ccb66",
   "metadata": {},
   "outputs": [],
   "source": [
    "from vitrum.batch_active.learning import balace\n",
    "import pickle\n",
    "import os\n"
   ]
  },
  {
   "cell_type": "code",
   "execution_count": null,
   "id": "4f4f1176-71f4-4b68-873f-20534a2408e5",
   "metadata": {},
   "outputs": [],
   "source": [
    "try:\n",
    "    ace.run()\n",
    "except NameError:\n",
    "    if os.path.isfile(\"balace.pickle\"):\n",
    "        file = open(\"balace.pickle\",'rb')\n",
    "        ace = pickle.load(file)\n",
    "    else:\n",
    "        ace = balace()\n",
    "    ace.run()\n"
   ]
  },
  {
   "cell_type": "code",
   "execution_count": null,
   "id": "569ff35e-b931-43df-9c4f-1a9f1b6244b2",
   "metadata": {},
   "outputs": [],
   "source": [
    "!qlaunch rapidfire"
   ]
  },
  {
   "cell_type": "code",
   "execution_count": null,
   "id": "97dd4472",
   "metadata": {},
   "outputs": [],
   "source": []
  }
 ],
 "metadata": {
  "kernelspec": {
   "display_name": "Python 3 (ipykernel)",
   "language": "python",
   "name": "python3"
  },
  "language_info": {
   "codemirror_mode": {
    "name": "ipython",
    "version": 3
   },
   "file_extension": ".py",
   "mimetype": "text/x-python",
   "name": "python",
   "nbconvert_exporter": "python",
   "pygments_lexer": "ipython3",
   "version": "3.9.19"
  }
 },
 "nbformat": 4,
 "nbformat_minor": 5
}
